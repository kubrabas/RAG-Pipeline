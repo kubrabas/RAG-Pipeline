{
 "cells": [
  {
   "cell_type": "markdown",
   "id": "929536a1-186d-4f3e-a3d7-d58e61060b70",
   "metadata": {},
   "source": [
    "##### The aim of this project is to create a Retrieval Augmented Generation pipeline and execute it on a local GPU. Particulary in this notebook, the \"retrieval\" part of the pipeline is performed by following the steps below: ###\n",
    "\n",
    "* Open a PDF document.\n",
    "* Do the exploratory data analysis.\r",
    "* Prepare the text of the PDF textbook for an embedding model by splitting it into chunks.\n",
    "* Convert all text chunks into numerical representations for storage. \r\n",
    "* Store the numerical representation."
   ]
  },
  {
   "cell_type": "code",
   "execution_count": 1,
   "id": "16dbf18c",
   "metadata": {},
   "outputs": [],
   "source": [
    "import fitz\n",
    "import os\n",
    "from tqdm.auto import tqdm\n",
    "import pandas as pd\n",
    "import random\n",
    "from spacy.lang.de import German\n",
    "import re \n",
    "from sentence_transformers import SentenceTransformer\n",
    "import torch"
   ]
  },
  {
   "cell_type": "code",
   "execution_count": 2,
   "id": "5402257b",
   "metadata": {},
   "outputs": [],
   "source": [
    "pdf_path1 = \"C:\\\\Users\\\\asus\\\\WeitBlick.pdf\"\n",
    "pdf_path2 = \"C:\\\\Users\\\\asus\\\\ParkAllee.pdf\""
   ]
  },
  {
   "cell_type": "code",
   "execution_count": 3,
   "id": "b329a8e7-9514-4936-b101-4aa96c5796a4",
   "metadata": {},
   "outputs": [],
   "source": [
    "token_length = 7\n",
    "## on the internet, I found out that token length is 6-7 in German."
   ]
  },
  {
   "cell_type": "code",
   "execution_count": 4,
   "id": "84c0f8a6-38cf-4dc8-b091-a9e4c4f604ca",
   "metadata": {},
   "outputs": [],
   "source": [
    "doc1 = fitz.open(pdf_path1)"
   ]
  },
  {
   "cell_type": "markdown",
   "id": "e944b12a-e61c-4da6-8629-a2b2ba931c5a",
   "metadata": {},
   "source": [
    "### Document/Text Processing"
   ]
  },
  {
   "cell_type": "code",
   "execution_count": 5,
   "id": "720a4703",
   "metadata": {},
   "outputs": [],
   "source": [
    "def read_pdf(doc) -> list[dict]:\n",
    "    \"\"\" \n",
    "    This function stores information of each page in a dictionary, then add that dictionary to a list for convenient access later.\n",
    "    \n",
    "    Parameters:\n",
    "    doc: the document to be processed.\n",
    "\n",
    "    Returns:\n",
    "    list[dict]: A list of dictionaries, each containing the page number, character count, word count, sentence count, token count, and the extracted text for each page.\n",
    "    \n",
    "    \"\"\"\n",
    "    pages = []\n",
    "    \n",
    "    for page_number, page in tqdm(enumerate(doc)):\n",
    "        text = page.get_text()\n",
    "        text = text.replace(\"\\n\", \" \").strip() \n",
    "        text = re.sub(r'\\.{2,}', ' ', text)\n",
    "        text = re.sub(r'BASIS_PACK_WB', '', text)\n",
    "        text = re.sub(r'Seite \\([^)]*\\) von \\([^)]*\\)', '', text)\n",
    "        text = re.sub(r'\\bWB\\w*', '', text)\n",
    "        pages.append({\"page_number\": page_number + 1,\n",
    "                               \"char_count_per_page\": len(text),\n",
    "                               \"word_count_per_page\": len(text.split(\" \")),\n",
    "                               \"sentence_count_raw_per_page\": len(text.split(\". \")),\n",
    "                               \"token_count_per_page\": len(text) / token_length ,\n",
    "                               \"text\": text})\n",
    "        \n",
    "    return pages\n",
    "    "
   ]
  },
  {
   "cell_type": "code",
   "execution_count": 6,
   "id": "5ebb3d4e-86b1-4647-b9b4-7bfe7c0335b4",
   "metadata": {},
   "outputs": [
    {
     "data": {
      "application/vnd.jupyter.widget-view+json": {
       "model_id": "e717fdf846cf44d3a9a1c880f3ab463a",
       "version_major": 2,
       "version_minor": 0
      },
      "text/plain": [
       "0it [00:00, ?it/s]"
      ]
     },
     "metadata": {},
     "output_type": "display_data"
    }
   ],
   "source": [
    "pages = read_pdf(doc1)"
   ]
  },
  {
   "cell_type": "code",
   "execution_count": 7,
   "id": "c46479bc-9c00-4f46-9e87-c5e807ed4a0d",
   "metadata": {},
   "outputs": [],
   "source": [
    "# pages"
   ]
  },
  {
   "cell_type": "code",
   "execution_count": 8,
   "id": "ef150321-379c-47ac-b728-a0d6ab5a1e33",
   "metadata": {},
   "outputs": [
    {
     "data": {
      "text/html": [
       "<div>\n",
       "<style scoped>\n",
       "    .dataframe tbody tr th:only-of-type {\n",
       "        vertical-align: middle;\n",
       "    }\n",
       "\n",
       "    .dataframe tbody tr th {\n",
       "        vertical-align: top;\n",
       "    }\n",
       "\n",
       "    .dataframe thead th {\n",
       "        text-align: right;\n",
       "    }\n",
       "</style>\n",
       "<table border=\"1\" class=\"dataframe\">\n",
       "  <thead>\n",
       "    <tr style=\"text-align: right;\">\n",
       "      <th></th>\n",
       "      <th>page_number</th>\n",
       "      <th>char_count_per_page</th>\n",
       "      <th>word_count_per_page</th>\n",
       "      <th>sentence_count_raw_per_page</th>\n",
       "      <th>token_count_per_page</th>\n",
       "    </tr>\n",
       "  </thead>\n",
       "  <tbody>\n",
       "    <tr>\n",
       "      <th>count</th>\n",
       "      <td>44.000000</td>\n",
       "      <td>44.000000</td>\n",
       "      <td>44.000000</td>\n",
       "      <td>44.000000</td>\n",
       "      <td>44.000000</td>\n",
       "    </tr>\n",
       "    <tr>\n",
       "      <th>mean</th>\n",
       "      <td>22.500000</td>\n",
       "      <td>2518.000000</td>\n",
       "      <td>348.068182</td>\n",
       "      <td>17.500000</td>\n",
       "      <td>359.714286</td>\n",
       "    </tr>\n",
       "    <tr>\n",
       "      <th>std</th>\n",
       "      <td>12.845233</td>\n",
       "      <td>1340.716816</td>\n",
       "      <td>179.334869</td>\n",
       "      <td>9.431516</td>\n",
       "      <td>191.530974</td>\n",
       "    </tr>\n",
       "    <tr>\n",
       "      <th>min</th>\n",
       "      <td>1.000000</td>\n",
       "      <td>0.000000</td>\n",
       "      <td>1.000000</td>\n",
       "      <td>1.000000</td>\n",
       "      <td>0.000000</td>\n",
       "    </tr>\n",
       "    <tr>\n",
       "      <th>25%</th>\n",
       "      <td>11.750000</td>\n",
       "      <td>1105.750000</td>\n",
       "      <td>182.000000</td>\n",
       "      <td>12.250000</td>\n",
       "      <td>157.964286</td>\n",
       "    </tr>\n",
       "    <tr>\n",
       "      <th>50%</th>\n",
       "      <td>22.500000</td>\n",
       "      <td>3108.500000</td>\n",
       "      <td>427.000000</td>\n",
       "      <td>19.000000</td>\n",
       "      <td>444.071429</td>\n",
       "    </tr>\n",
       "    <tr>\n",
       "      <th>75%</th>\n",
       "      <td>33.250000</td>\n",
       "      <td>3485.500000</td>\n",
       "      <td>483.500000</td>\n",
       "      <td>24.000000</td>\n",
       "      <td>497.928571</td>\n",
       "    </tr>\n",
       "    <tr>\n",
       "      <th>max</th>\n",
       "      <td>44.000000</td>\n",
       "      <td>5304.000000</td>\n",
       "      <td>634.000000</td>\n",
       "      <td>33.000000</td>\n",
       "      <td>757.714286</td>\n",
       "    </tr>\n",
       "  </tbody>\n",
       "</table>\n",
       "</div>"
      ],
      "text/plain": [
       "       page_number  char_count_per_page  word_count_per_page  \\\n",
       "count    44.000000            44.000000            44.000000   \n",
       "mean     22.500000          2518.000000           348.068182   \n",
       "std      12.845233          1340.716816           179.334869   \n",
       "min       1.000000             0.000000             1.000000   \n",
       "25%      11.750000          1105.750000           182.000000   \n",
       "50%      22.500000          3108.500000           427.000000   \n",
       "75%      33.250000          3485.500000           483.500000   \n",
       "max      44.000000          5304.000000           634.000000   \n",
       "\n",
       "       sentence_count_raw_per_page  token_count_per_page  \n",
       "count                    44.000000             44.000000  \n",
       "mean                     17.500000            359.714286  \n",
       "std                       9.431516            191.530974  \n",
       "min                       1.000000              0.000000  \n",
       "25%                      12.250000            157.964286  \n",
       "50%                      19.000000            444.071429  \n",
       "75%                      24.000000            497.928571  \n",
       "max                      33.000000            757.714286  "
      ]
     },
     "execution_count": 8,
     "metadata": {},
     "output_type": "execute_result"
    }
   ],
   "source": [
    "df_pages = pd.DataFrame(pages)\n",
    "df_pages.describe()"
   ]
  },
  {
   "cell_type": "markdown",
   "id": "b8c38a2d-48a6-4179-89b4-d62bb31ee044",
   "metadata": {},
   "source": [
    "From the dataframe, it can be seen that some pages include a few words, i.e 2. Those pages cannot contain information, therefore can be removed."
   ]
  },
  {
   "cell_type": "code",
   "execution_count": 9,
   "id": "83030f63-bdbb-44f3-9154-d8c5130ca639",
   "metadata": {},
   "outputs": [
    {
     "data": {
      "text/html": [
       "<div>\n",
       "<style scoped>\n",
       "    .dataframe tbody tr th:only-of-type {\n",
       "        vertical-align: middle;\n",
       "    }\n",
       "\n",
       "    .dataframe tbody tr th {\n",
       "        vertical-align: top;\n",
       "    }\n",
       "\n",
       "    .dataframe thead th {\n",
       "        text-align: right;\n",
       "    }\n",
       "</style>\n",
       "<table border=\"1\" class=\"dataframe\">\n",
       "  <thead>\n",
       "    <tr style=\"text-align: right;\">\n",
       "      <th></th>\n",
       "      <th>page_number</th>\n",
       "      <th>char_count_per_page</th>\n",
       "      <th>word_count_per_page</th>\n",
       "      <th>sentence_count_raw_per_page</th>\n",
       "      <th>token_count_per_page</th>\n",
       "      <th>text</th>\n",
       "    </tr>\n",
       "  </thead>\n",
       "  <tbody>\n",
       "    <tr>\n",
       "      <th>2</th>\n",
       "      <td>3</td>\n",
       "      <td>2445</td>\n",
       "      <td>313</td>\n",
       "      <td>14</td>\n",
       "      <td>349.285714</td>\n",
       "      <td>Informationen für Ihren Versicherungsvertrag S...</td>\n",
       "    </tr>\n",
       "    <tr>\n",
       "      <th>3</th>\n",
       "      <td>4</td>\n",
       "      <td>2390</td>\n",
       "      <td>329</td>\n",
       "      <td>15</td>\n",
       "      <td>341.428571</td>\n",
       "      <td>Informationen für Ihren Versicherungsvertrag S...</td>\n",
       "    </tr>\n",
       "    <tr>\n",
       "      <th>4</th>\n",
       "      <td>5</td>\n",
       "      <td>245</td>\n",
       "      <td>27</td>\n",
       "      <td>2</td>\n",
       "      <td>35.000000</td>\n",
       "      <td>Informationen für Ihren Versicherungsvertrag S...</td>\n",
       "    </tr>\n",
       "    <tr>\n",
       "      <th>5</th>\n",
       "      <td>6</td>\n",
       "      <td>892</td>\n",
       "      <td>108</td>\n",
       "      <td>7</td>\n",
       "      <td>127.428571</td>\n",
       "      <td>/D/1006/XIII/03/22 Steuerinformationen zu Wei...</td>\n",
       "    </tr>\n",
       "    <tr>\n",
       "      <th>6</th>\n",
       "      <td>7</td>\n",
       "      <td>3444</td>\n",
       "      <td>401</td>\n",
       "      <td>26</td>\n",
       "      <td>492.000000</td>\n",
       "      <td>Steuerinformationen Seite 1 von 3  /D/1006/XII...</td>\n",
       "    </tr>\n",
       "  </tbody>\n",
       "</table>\n",
       "</div>"
      ],
      "text/plain": [
       "   page_number  char_count_per_page  word_count_per_page  \\\n",
       "2            3                 2445                  313   \n",
       "3            4                 2390                  329   \n",
       "4            5                  245                   27   \n",
       "5            6                  892                  108   \n",
       "6            7                 3444                  401   \n",
       "\n",
       "   sentence_count_raw_per_page  token_count_per_page  \\\n",
       "2                           14            349.285714   \n",
       "3                           15            341.428571   \n",
       "4                            2             35.000000   \n",
       "5                            7            127.428571   \n",
       "6                           26            492.000000   \n",
       "\n",
       "                                                text  \n",
       "2  Informationen für Ihren Versicherungsvertrag S...  \n",
       "3  Informationen für Ihren Versicherungsvertrag S...  \n",
       "4  Informationen für Ihren Versicherungsvertrag S...  \n",
       "5   /D/1006/XIII/03/22 Steuerinformationen zu Wei...  \n",
       "6  Steuerinformationen Seite 1 von 3  /D/1006/XII...  "
      ]
     },
     "execution_count": 9,
     "metadata": {},
     "output_type": "execute_result"
    }
   ],
   "source": [
    "df_pages = df_pages[df_pages[\"word_count_per_page\"] > 25]\n",
    "df_pages.head(5)"
   ]
  },
  {
   "cell_type": "code",
   "execution_count": 10,
   "id": "1330e8ee-3209-4e94-b874-292b738fc987",
   "metadata": {},
   "outputs": [],
   "source": [
    "pages = df_pages.to_dict(orient = \"records\")"
   ]
  },
  {
   "cell_type": "code",
   "execution_count": 11,
   "id": "fe1fef21",
   "metadata": {},
   "outputs": [
    {
     "data": {
      "text/plain": [
       "<spacy.pipeline.sentencizer.Sentencizer at 0x2c29aee5b90>"
      ]
     },
     "execution_count": 11,
     "metadata": {},
     "output_type": "execute_result"
    }
   ],
   "source": [
    "nlp = German()\n",
    "nlp.add_pipe(\"sentencizer\")  ## add a sentencizer pipeline\n"
   ]
  },
  {
   "cell_type": "code",
   "execution_count": 12,
   "id": "77e483d2-5cc1-474f-bfe8-38b25939b943",
   "metadata": {},
   "outputs": [
    {
     "data": {
      "application/vnd.jupyter.widget-view+json": {
       "model_id": "e90d09dc65f04a7bae7b15ac9d85644e",
       "version_major": 2,
       "version_minor": 0
      },
      "text/plain": [
       "  0%|          | 0/42 [00:00<?, ?it/s]"
      ]
     },
     "metadata": {},
     "output_type": "display_data"
    }
   ],
   "source": [
    "for item in tqdm(pages):\n",
    "    item[\"sentences\"] = list(nlp(item[\"text\"]).sents)\n",
    "    \n",
    "    # Make sure all sentences are strings\n",
    "    item[\"sentences\"] = [str(sentence) for sentence in item[\"sentences\"]]\n",
    "    \n",
    "    # Count the sentences \n",
    "    item[\"sentence_count_stacy_per_page\"] = len(item[\"sentences\"])\n",
    "\n"
   ]
  },
  {
   "cell_type": "code",
   "execution_count": 13,
   "id": "6a8ae577-8097-47c5-8335-d65ba9b6dfd2",
   "metadata": {},
   "outputs": [
    {
     "data": {
      "text/html": [
       "<div>\n",
       "<style scoped>\n",
       "    .dataframe tbody tr th:only-of-type {\n",
       "        vertical-align: middle;\n",
       "    }\n",
       "\n",
       "    .dataframe tbody tr th {\n",
       "        vertical-align: top;\n",
       "    }\n",
       "\n",
       "    .dataframe thead th {\n",
       "        text-align: right;\n",
       "    }\n",
       "</style>\n",
       "<table border=\"1\" class=\"dataframe\">\n",
       "  <thead>\n",
       "    <tr style=\"text-align: right;\">\n",
       "      <th></th>\n",
       "      <th>page_number</th>\n",
       "      <th>char_count_per_page</th>\n",
       "      <th>word_count_per_page</th>\n",
       "      <th>sentence_count_raw_per_page</th>\n",
       "      <th>token_count_per_page</th>\n",
       "      <th>text</th>\n",
       "      <th>sentences</th>\n",
       "      <th>sentence_count_stacy_per_page</th>\n",
       "    </tr>\n",
       "  </thead>\n",
       "  <tbody>\n",
       "    <tr>\n",
       "      <th>0</th>\n",
       "      <td>3</td>\n",
       "      <td>2445</td>\n",
       "      <td>313</td>\n",
       "      <td>14</td>\n",
       "      <td>349.285714</td>\n",
       "      <td>Informationen für Ihren Versicherungsvertrag S...</td>\n",
       "      <td>[Informationen für Ihren Versicherungsvertrag ...</td>\n",
       "      <td>17</td>\n",
       "    </tr>\n",
       "    <tr>\n",
       "      <th>1</th>\n",
       "      <td>4</td>\n",
       "      <td>2390</td>\n",
       "      <td>329</td>\n",
       "      <td>15</td>\n",
       "      <td>341.428571</td>\n",
       "      <td>Informationen für Ihren Versicherungsvertrag S...</td>\n",
       "      <td>[Informationen für Ihren Versicherungsvertrag ...</td>\n",
       "      <td>15</td>\n",
       "    </tr>\n",
       "    <tr>\n",
       "      <th>2</th>\n",
       "      <td>5</td>\n",
       "      <td>245</td>\n",
       "      <td>27</td>\n",
       "      <td>2</td>\n",
       "      <td>35.000000</td>\n",
       "      <td>Informationen für Ihren Versicherungsvertrag S...</td>\n",
       "      <td>[Informationen für Ihren Versicherungsvertrag ...</td>\n",
       "      <td>1</td>\n",
       "    </tr>\n",
       "    <tr>\n",
       "      <th>3</th>\n",
       "      <td>6</td>\n",
       "      <td>892</td>\n",
       "      <td>108</td>\n",
       "      <td>7</td>\n",
       "      <td>127.428571</td>\n",
       "      <td>/D/1006/XIII/03/22 Steuerinformationen zu Wei...</td>\n",
       "      <td>[ /D/1006/XIII/03/22 Steuerinformationen zu We...</td>\n",
       "      <td>7</td>\n",
       "    </tr>\n",
       "    <tr>\n",
       "      <th>4</th>\n",
       "      <td>7</td>\n",
       "      <td>3444</td>\n",
       "      <td>401</td>\n",
       "      <td>26</td>\n",
       "      <td>492.000000</td>\n",
       "      <td>Steuerinformationen Seite 1 von 3  /D/1006/XII...</td>\n",
       "      <td>[Steuerinformationen Seite 1 von 3  /D/1006/XI...</td>\n",
       "      <td>21</td>\n",
       "    </tr>\n",
       "  </tbody>\n",
       "</table>\n",
       "</div>"
      ],
      "text/plain": [
       "   page_number  char_count_per_page  word_count_per_page  \\\n",
       "0            3                 2445                  313   \n",
       "1            4                 2390                  329   \n",
       "2            5                  245                   27   \n",
       "3            6                  892                  108   \n",
       "4            7                 3444                  401   \n",
       "\n",
       "   sentence_count_raw_per_page  token_count_per_page  \\\n",
       "0                           14            349.285714   \n",
       "1                           15            341.428571   \n",
       "2                            2             35.000000   \n",
       "3                            7            127.428571   \n",
       "4                           26            492.000000   \n",
       "\n",
       "                                                text  \\\n",
       "0  Informationen für Ihren Versicherungsvertrag S...   \n",
       "1  Informationen für Ihren Versicherungsvertrag S...   \n",
       "2  Informationen für Ihren Versicherungsvertrag S...   \n",
       "3   /D/1006/XIII/03/22 Steuerinformationen zu Wei...   \n",
       "4  Steuerinformationen Seite 1 von 3  /D/1006/XII...   \n",
       "\n",
       "                                           sentences  \\\n",
       "0  [Informationen für Ihren Versicherungsvertrag ...   \n",
       "1  [Informationen für Ihren Versicherungsvertrag ...   \n",
       "2  [Informationen für Ihren Versicherungsvertrag ...   \n",
       "3  [ /D/1006/XIII/03/22 Steuerinformationen zu We...   \n",
       "4  [Steuerinformationen Seite 1 von 3  /D/1006/XI...   \n",
       "\n",
       "   sentence_count_stacy_per_page  \n",
       "0                             17  \n",
       "1                             15  \n",
       "2                              1  \n",
       "3                              7  \n",
       "4                             21  "
      ]
     },
     "execution_count": 13,
     "metadata": {},
     "output_type": "execute_result"
    }
   ],
   "source": [
    "df_pages = pd.DataFrame(pages)\n",
    "df_pages.head(5)"
   ]
  },
  {
   "cell_type": "markdown",
   "id": "2d681e83-8883-49d8-a70b-83530303a797",
   "metadata": {},
   "source": [
    "Let's create sentence sets consisting of 10 sentences and call it \"chunks\". Chunking involves dividing text into manageable segments. This approach is essential for several reasons: it allows for easier management of text in uniform sizes and prevents exceeding token capacities in embedding models (such as those limited to 384 tokens, where sequences longer than this can lead to information loss)."
   ]
  },
  {
   "cell_type": "code",
   "execution_count": 14,
   "id": "cb809b06-c4a3-46f4-b234-36dcaaad73cf",
   "metadata": {},
   "outputs": [],
   "source": [
    "num_sentence_per_chunk = 8"
   ]
  },
  {
   "cell_type": "code",
   "execution_count": 15,
   "id": "6b15daf9-83cc-4ab9-bf31-9256b9b72580",
   "metadata": {},
   "outputs": [],
   "source": [
    "def split_list(input_list: list[str], \n",
    "              slice_size: int = num_sentence_per_chunk) -> list[list[str]]:\n",
    "    \n",
    "    \"\"\"\n",
    "    Splits the input_list into sublists of size slice_size.\n",
    "    For example, a list of 17 sentences would be split into two lists of [[10], [7]].\n",
    "    \"\"\"\n",
    "    \n",
    "    return [input_list[i:i+slice_size]for i in range(0, len(input_list), slice_size)]"
   ]
  },
  {
   "cell_type": "code",
   "execution_count": 16,
   "id": "269c690e-ea36-4a57-a0a3-f0c353f7d4a3",
   "metadata": {},
   "outputs": [
    {
     "data": {
      "application/vnd.jupyter.widget-view+json": {
       "model_id": "090e90e2f9bc423e80d160b8d3dfc6eb",
       "version_major": 2,
       "version_minor": 0
      },
      "text/plain": [
       "  0%|          | 0/42 [00:00<?, ?it/s]"
      ]
     },
     "metadata": {},
     "output_type": "display_data"
    }
   ],
   "source": [
    "for item in tqdm(pages):\n",
    "    item[\"chunks\"] = split_list(item[\"sentences\"], num_sentence_per_chunk)\n",
    "    item[\"num_chunks\"] = len(item[\"chunks\"])"
   ]
  },
  {
   "cell_type": "code",
   "execution_count": 17,
   "id": "7582a1ef-b74b-445c-9eb2-2eddf3bc565f",
   "metadata": {},
   "outputs": [
    {
     "data": {
      "text/html": [
       "<div>\n",
       "<style scoped>\n",
       "    .dataframe tbody tr th:only-of-type {\n",
       "        vertical-align: middle;\n",
       "    }\n",
       "\n",
       "    .dataframe tbody tr th {\n",
       "        vertical-align: top;\n",
       "    }\n",
       "\n",
       "    .dataframe thead th {\n",
       "        text-align: right;\n",
       "    }\n",
       "</style>\n",
       "<table border=\"1\" class=\"dataframe\">\n",
       "  <thead>\n",
       "    <tr style=\"text-align: right;\">\n",
       "      <th></th>\n",
       "      <th>page_number</th>\n",
       "      <th>char_count_per_page</th>\n",
       "      <th>word_count_per_page</th>\n",
       "      <th>sentence_count_raw_per_page</th>\n",
       "      <th>token_count_per_page</th>\n",
       "      <th>text</th>\n",
       "      <th>sentences</th>\n",
       "      <th>sentence_count_stacy_per_page</th>\n",
       "      <th>chunks</th>\n",
       "      <th>num_chunks</th>\n",
       "    </tr>\n",
       "  </thead>\n",
       "  <tbody>\n",
       "    <tr>\n",
       "      <th>0</th>\n",
       "      <td>3</td>\n",
       "      <td>2445</td>\n",
       "      <td>313</td>\n",
       "      <td>14</td>\n",
       "      <td>349.285714</td>\n",
       "      <td>Informationen für Ihren Versicherungsvertrag S...</td>\n",
       "      <td>[Informationen für Ihren Versicherungsvertrag ...</td>\n",
       "      <td>17</td>\n",
       "      <td>[[Informationen für Ihren Versicherungsvertrag...</td>\n",
       "      <td>3</td>\n",
       "    </tr>\n",
       "    <tr>\n",
       "      <th>1</th>\n",
       "      <td>4</td>\n",
       "      <td>2390</td>\n",
       "      <td>329</td>\n",
       "      <td>15</td>\n",
       "      <td>341.428571</td>\n",
       "      <td>Informationen für Ihren Versicherungsvertrag S...</td>\n",
       "      <td>[Informationen für Ihren Versicherungsvertrag ...</td>\n",
       "      <td>15</td>\n",
       "      <td>[[Informationen für Ihren Versicherungsvertrag...</td>\n",
       "      <td>2</td>\n",
       "    </tr>\n",
       "    <tr>\n",
       "      <th>2</th>\n",
       "      <td>5</td>\n",
       "      <td>245</td>\n",
       "      <td>27</td>\n",
       "      <td>2</td>\n",
       "      <td>35.000000</td>\n",
       "      <td>Informationen für Ihren Versicherungsvertrag S...</td>\n",
       "      <td>[Informationen für Ihren Versicherungsvertrag ...</td>\n",
       "      <td>1</td>\n",
       "      <td>[[Informationen für Ihren Versicherungsvertrag...</td>\n",
       "      <td>1</td>\n",
       "    </tr>\n",
       "    <tr>\n",
       "      <th>3</th>\n",
       "      <td>6</td>\n",
       "      <td>892</td>\n",
       "      <td>108</td>\n",
       "      <td>7</td>\n",
       "      <td>127.428571</td>\n",
       "      <td>/D/1006/XIII/03/22 Steuerinformationen zu Wei...</td>\n",
       "      <td>[ /D/1006/XIII/03/22 Steuerinformationen zu We...</td>\n",
       "      <td>7</td>\n",
       "      <td>[[ /D/1006/XIII/03/22 Steuerinformationen zu W...</td>\n",
       "      <td>1</td>\n",
       "    </tr>\n",
       "    <tr>\n",
       "      <th>4</th>\n",
       "      <td>7</td>\n",
       "      <td>3444</td>\n",
       "      <td>401</td>\n",
       "      <td>26</td>\n",
       "      <td>492.000000</td>\n",
       "      <td>Steuerinformationen Seite 1 von 3  /D/1006/XII...</td>\n",
       "      <td>[Steuerinformationen Seite 1 von 3  /D/1006/XI...</td>\n",
       "      <td>21</td>\n",
       "      <td>[[Steuerinformationen Seite 1 von 3  /D/1006/X...</td>\n",
       "      <td>3</td>\n",
       "    </tr>\n",
       "  </tbody>\n",
       "</table>\n",
       "</div>"
      ],
      "text/plain": [
       "   page_number  char_count_per_page  word_count_per_page  \\\n",
       "0            3                 2445                  313   \n",
       "1            4                 2390                  329   \n",
       "2            5                  245                   27   \n",
       "3            6                  892                  108   \n",
       "4            7                 3444                  401   \n",
       "\n",
       "   sentence_count_raw_per_page  token_count_per_page  \\\n",
       "0                           14            349.285714   \n",
       "1                           15            341.428571   \n",
       "2                            2             35.000000   \n",
       "3                            7            127.428571   \n",
       "4                           26            492.000000   \n",
       "\n",
       "                                                text  \\\n",
       "0  Informationen für Ihren Versicherungsvertrag S...   \n",
       "1  Informationen für Ihren Versicherungsvertrag S...   \n",
       "2  Informationen für Ihren Versicherungsvertrag S...   \n",
       "3   /D/1006/XIII/03/22 Steuerinformationen zu Wei...   \n",
       "4  Steuerinformationen Seite 1 von 3  /D/1006/XII...   \n",
       "\n",
       "                                           sentences  \\\n",
       "0  [Informationen für Ihren Versicherungsvertrag ...   \n",
       "1  [Informationen für Ihren Versicherungsvertrag ...   \n",
       "2  [Informationen für Ihren Versicherungsvertrag ...   \n",
       "3  [ /D/1006/XIII/03/22 Steuerinformationen zu We...   \n",
       "4  [Steuerinformationen Seite 1 von 3  /D/1006/XI...   \n",
       "\n",
       "   sentence_count_stacy_per_page  \\\n",
       "0                             17   \n",
       "1                             15   \n",
       "2                              1   \n",
       "3                              7   \n",
       "4                             21   \n",
       "\n",
       "                                              chunks  num_chunks  \n",
       "0  [[Informationen für Ihren Versicherungsvertrag...           3  \n",
       "1  [[Informationen für Ihren Versicherungsvertrag...           2  \n",
       "2  [[Informationen für Ihren Versicherungsvertrag...           1  \n",
       "3  [[ /D/1006/XIII/03/22 Steuerinformationen zu W...           1  \n",
       "4  [[Steuerinformationen Seite 1 von 3  /D/1006/X...           3  "
      ]
     },
     "execution_count": 17,
     "metadata": {},
     "output_type": "execute_result"
    }
   ],
   "source": [
    "df_pages = pd.DataFrame(pages)\n",
    "df_pages.head(5)"
   ]
  },
  {
   "cell_type": "markdown",
   "id": "2a5b5ad6-fbd9-4692-9a16-021fd055c5ce",
   "metadata": {},
   "source": [
    "We will embed each chunk of sentences into its own numerical representation. Then, to keep things clean, l\n",
    "Let's create our database based on chunks, not the pages."
   ]
  },
  {
   "cell_type": "code",
   "execution_count": 18,
   "id": "ece8094c",
   "metadata": {},
   "outputs": [
    {
     "data": {
      "application/vnd.jupyter.widget-view+json": {
       "model_id": "26ac63ffdad0465f84c9e2d524dd6836",
       "version_major": 2,
       "version_minor": 0
      },
      "text/plain": [
       "  0%|          | 0/42 [00:00<?, ?it/s]"
      ]
     },
     "metadata": {},
     "output_type": "display_data"
    }
   ],
   "source": [
    "chunks = []\n",
    "\n",
    "for item in tqdm(pages):\n",
    "    for chunk in item[\"chunks\"]:\n",
    "        chunk_dict = {}\n",
    "        chunk_dict[\"page_number\"] = item[\"page_number\"]\n",
    "        joined_sentence_chunk = \"\".join(chunk).replace(\"  \", \" \").strip()\n",
    "        joined_sentence_chunk = re.sub(r'\\.([A-Z])', r'.\\1', joined_sentence_chunk)\n",
    "        chunk_dict[\"chunk\"] = joined_sentence_chunk\n",
    "        \n",
    "        chunk_dict[\"char_count_per_chunk\"] = len(joined_sentence_chunk)\n",
    "        chunk_dict[\"word_count_per_chunk\"] = len([word for word in joined_sentence_chunk.split(\" \")])\n",
    "        chunk_dict[\"token_count_per_chunk\"] = len (joined_sentence_chunk) / token_length\n",
    "        chunks.append(chunk_dict)"
   ]
  },
  {
   "cell_type": "code",
   "execution_count": 19,
   "id": "bfbec445-8db4-4273-bb5c-e033aa815f0b",
   "metadata": {},
   "outputs": [],
   "source": [
    "# chunks"
   ]
  },
  {
   "cell_type": "code",
   "execution_count": 20,
   "id": "5a5599ae",
   "metadata": {},
   "outputs": [
    {
     "data": {
      "text/html": [
       "<div>\n",
       "<style scoped>\n",
       "    .dataframe tbody tr th:only-of-type {\n",
       "        vertical-align: middle;\n",
       "    }\n",
       "\n",
       "    .dataframe tbody tr th {\n",
       "        vertical-align: top;\n",
       "    }\n",
       "\n",
       "    .dataframe thead th {\n",
       "        text-align: right;\n",
       "    }\n",
       "</style>\n",
       "<table border=\"1\" class=\"dataframe\">\n",
       "  <thead>\n",
       "    <tr style=\"text-align: right;\">\n",
       "      <th></th>\n",
       "      <th>page_number</th>\n",
       "      <th>chunk</th>\n",
       "      <th>char_count_per_chunk</th>\n",
       "      <th>word_count_per_chunk</th>\n",
       "      <th>token_count_per_chunk</th>\n",
       "    </tr>\n",
       "  </thead>\n",
       "  <tbody>\n",
       "    <tr>\n",
       "      <th>0</th>\n",
       "      <td>3</td>\n",
       "      <td>Informationen für Ihren Versicherungsvertrag S...</td>\n",
       "      <td>1274</td>\n",
       "      <td>154</td>\n",
       "      <td>182.00</td>\n",
       "    </tr>\n",
       "    <tr>\n",
       "      <th>1</th>\n",
       "      <td>3</td>\n",
       "      <td>Jegliche schriftliche und mündliche Kommunikat...</td>\n",
       "      <td>897</td>\n",
       "      <td>96</td>\n",
       "      <td>128.14</td>\n",
       "    </tr>\n",
       "    <tr>\n",
       "      <th>2</th>\n",
       "      <td>3</td>\n",
       "      <td>Im unwahrscheinlichen Fall einer Insolvenz und...</td>\n",
       "      <td>238</td>\n",
       "      <td>29</td>\n",
       "      <td>34.00</td>\n",
       "    </tr>\n",
       "    <tr>\n",
       "      <th>3</th>\n",
       "      <td>4</td>\n",
       "      <td>Informationen für Ihren Versicherungsvertrag S...</td>\n",
       "      <td>1409</td>\n",
       "      <td>176</td>\n",
       "      <td>201.29</td>\n",
       "    </tr>\n",
       "    <tr>\n",
       "      <th>4</th>\n",
       "      <td>4</td>\n",
       "      <td>Eine Beschwerde, bei der zugleich ein Verfahre...</td>\n",
       "      <td>950</td>\n",
       "      <td>123</td>\n",
       "      <td>135.71</td>\n",
       "    </tr>\n",
       "  </tbody>\n",
       "</table>\n",
       "</div>"
      ],
      "text/plain": [
       "   page_number                                              chunk  \\\n",
       "0            3  Informationen für Ihren Versicherungsvertrag S...   \n",
       "1            3  Jegliche schriftliche und mündliche Kommunikat...   \n",
       "2            3  Im unwahrscheinlichen Fall einer Insolvenz und...   \n",
       "3            4  Informationen für Ihren Versicherungsvertrag S...   \n",
       "4            4  Eine Beschwerde, bei der zugleich ein Verfahre...   \n",
       "\n",
       "   char_count_per_chunk  word_count_per_chunk  token_count_per_chunk  \n",
       "0                  1274                   154                 182.00  \n",
       "1                   897                    96                 128.14  \n",
       "2                   238                    29                  34.00  \n",
       "3                  1409                   176                 201.29  \n",
       "4                   950                   123                 135.71  "
      ]
     },
     "execution_count": 20,
     "metadata": {},
     "output_type": "execute_result"
    }
   ],
   "source": [
    "df_chunks = pd.DataFrame(chunks)\n",
    "df_chunks.head(5).round(2)"
   ]
  },
  {
   "cell_type": "code",
   "execution_count": 21,
   "id": "d5aebcba-5e8c-4193-bc35-a4cfbcfb9422",
   "metadata": {},
   "outputs": [
    {
     "data": {
      "text/html": [
       "<div>\n",
       "<style scoped>\n",
       "    .dataframe tbody tr th:only-of-type {\n",
       "        vertical-align: middle;\n",
       "    }\n",
       "\n",
       "    .dataframe tbody tr th {\n",
       "        vertical-align: top;\n",
       "    }\n",
       "\n",
       "    .dataframe thead th {\n",
       "        text-align: right;\n",
       "    }\n",
       "</style>\n",
       "<table border=\"1\" class=\"dataframe\">\n",
       "  <thead>\n",
       "    <tr style=\"text-align: right;\">\n",
       "      <th></th>\n",
       "      <th>page_number</th>\n",
       "      <th>char_count_per_chunk</th>\n",
       "      <th>word_count_per_chunk</th>\n",
       "      <th>token_count_per_chunk</th>\n",
       "    </tr>\n",
       "  </thead>\n",
       "  <tbody>\n",
       "    <tr>\n",
       "      <th>count</th>\n",
       "      <td>121.00</td>\n",
       "      <td>121.00</td>\n",
       "      <td>121.00</td>\n",
       "      <td>121.00</td>\n",
       "    </tr>\n",
       "    <tr>\n",
       "      <th>mean</th>\n",
       "      <td>23.32</td>\n",
       "      <td>904.00</td>\n",
       "      <td>116.88</td>\n",
       "      <td>129.14</td>\n",
       "    </tr>\n",
       "    <tr>\n",
       "      <th>std</th>\n",
       "      <td>11.47</td>\n",
       "      <td>478.65</td>\n",
       "      <td>61.25</td>\n",
       "      <td>68.38</td>\n",
       "    </tr>\n",
       "    <tr>\n",
       "      <th>min</th>\n",
       "      <td>3.00</td>\n",
       "      <td>1.00</td>\n",
       "      <td>1.00</td>\n",
       "      <td>0.14</td>\n",
       "    </tr>\n",
       "    <tr>\n",
       "      <th>25%</th>\n",
       "      <td>14.00</td>\n",
       "      <td>609.00</td>\n",
       "      <td>84.00</td>\n",
       "      <td>87.00</td>\n",
       "    </tr>\n",
       "    <tr>\n",
       "      <th>50%</th>\n",
       "      <td>23.00</td>\n",
       "      <td>879.00</td>\n",
       "      <td>113.00</td>\n",
       "      <td>125.57</td>\n",
       "    </tr>\n",
       "    <tr>\n",
       "      <th>75%</th>\n",
       "      <td>32.00</td>\n",
       "      <td>1196.00</td>\n",
       "      <td>149.00</td>\n",
       "      <td>170.86</td>\n",
       "    </tr>\n",
       "    <tr>\n",
       "      <th>max</th>\n",
       "      <td>44.00</td>\n",
       "      <td>3533.00</td>\n",
       "      <td>468.00</td>\n",
       "      <td>504.71</td>\n",
       "    </tr>\n",
       "  </tbody>\n",
       "</table>\n",
       "</div>"
      ],
      "text/plain": [
       "       page_number  char_count_per_chunk  word_count_per_chunk  \\\n",
       "count       121.00                121.00                121.00   \n",
       "mean         23.32                904.00                116.88   \n",
       "std          11.47                478.65                 61.25   \n",
       "min           3.00                  1.00                  1.00   \n",
       "25%          14.00                609.00                 84.00   \n",
       "50%          23.00                879.00                113.00   \n",
       "75%          32.00               1196.00                149.00   \n",
       "max          44.00               3533.00                468.00   \n",
       "\n",
       "       token_count_per_chunk  \n",
       "count                 121.00  \n",
       "mean                  129.14  \n",
       "std                    68.38  \n",
       "min                     0.14  \n",
       "25%                    87.00  \n",
       "50%                   125.57  \n",
       "75%                   170.86  \n",
       "max                   504.71  "
      ]
     },
     "execution_count": 21,
     "metadata": {},
     "output_type": "execute_result"
    }
   ],
   "source": [
    "df_chunks.describe().round(2)"
   ]
  },
  {
   "cell_type": "markdown",
   "id": "251c4c9e-3845-43ff-ade2-6bbfe6b0ebdf",
   "metadata": {},
   "source": [
    "From the dataframe, it can be seen that some chunks include a few tokens, i.e 10. Those chunks cannot contain information, therefore can be removed."
   ]
  },
  {
   "cell_type": "code",
   "execution_count": 22,
   "id": "e535d40e-c390-4699-b22f-dfe3029c4029",
   "metadata": {},
   "outputs": [
    {
     "data": {
      "text/html": [
       "<div>\n",
       "<style scoped>\n",
       "    .dataframe tbody tr th:only-of-type {\n",
       "        vertical-align: middle;\n",
       "    }\n",
       "\n",
       "    .dataframe tbody tr th {\n",
       "        vertical-align: top;\n",
       "    }\n",
       "\n",
       "    .dataframe thead th {\n",
       "        text-align: right;\n",
       "    }\n",
       "</style>\n",
       "<table border=\"1\" class=\"dataframe\">\n",
       "  <thead>\n",
       "    <tr style=\"text-align: right;\">\n",
       "      <th></th>\n",
       "      <th>page_number</th>\n",
       "      <th>char_count_per_chunk</th>\n",
       "      <th>word_count_per_chunk</th>\n",
       "      <th>token_count_per_chunk</th>\n",
       "    </tr>\n",
       "  </thead>\n",
       "  <tbody>\n",
       "    <tr>\n",
       "      <th>count</th>\n",
       "      <td>120.000000</td>\n",
       "      <td>120.000000</td>\n",
       "      <td>120.000000</td>\n",
       "      <td>120.000000</td>\n",
       "    </tr>\n",
       "    <tr>\n",
       "      <th>mean</th>\n",
       "      <td>23.416667</td>\n",
       "      <td>911.525000</td>\n",
       "      <td>117.841667</td>\n",
       "      <td>130.217857</td>\n",
       "    </tr>\n",
       "    <tr>\n",
       "      <th>std</th>\n",
       "      <td>11.469787</td>\n",
       "      <td>473.417381</td>\n",
       "      <td>60.570397</td>\n",
       "      <td>67.631054</td>\n",
       "    </tr>\n",
       "    <tr>\n",
       "      <th>min</th>\n",
       "      <td>3.000000</td>\n",
       "      <td>143.000000</td>\n",
       "      <td>22.000000</td>\n",
       "      <td>20.428571</td>\n",
       "    </tr>\n",
       "    <tr>\n",
       "      <th>25%</th>\n",
       "      <td>14.000000</td>\n",
       "      <td>615.000000</td>\n",
       "      <td>84.000000</td>\n",
       "      <td>87.857143</td>\n",
       "    </tr>\n",
       "    <tr>\n",
       "      <th>50%</th>\n",
       "      <td>23.000000</td>\n",
       "      <td>879.000000</td>\n",
       "      <td>113.500000</td>\n",
       "      <td>125.571429</td>\n",
       "    </tr>\n",
       "    <tr>\n",
       "      <th>75%</th>\n",
       "      <td>32.250000</td>\n",
       "      <td>1197.000000</td>\n",
       "      <td>149.250000</td>\n",
       "      <td>171.000000</td>\n",
       "    </tr>\n",
       "    <tr>\n",
       "      <th>max</th>\n",
       "      <td>44.000000</td>\n",
       "      <td>3533.000000</td>\n",
       "      <td>468.000000</td>\n",
       "      <td>504.714286</td>\n",
       "    </tr>\n",
       "  </tbody>\n",
       "</table>\n",
       "</div>"
      ],
      "text/plain": [
       "       page_number  char_count_per_chunk  word_count_per_chunk  \\\n",
       "count   120.000000            120.000000            120.000000   \n",
       "mean     23.416667            911.525000            117.841667   \n",
       "std      11.469787            473.417381             60.570397   \n",
       "min       3.000000            143.000000             22.000000   \n",
       "25%      14.000000            615.000000             84.000000   \n",
       "50%      23.000000            879.000000            113.500000   \n",
       "75%      32.250000           1197.000000            149.250000   \n",
       "max      44.000000           3533.000000            468.000000   \n",
       "\n",
       "       token_count_per_chunk  \n",
       "count             120.000000  \n",
       "mean              130.217857  \n",
       "std                67.631054  \n",
       "min                20.428571  \n",
       "25%                87.857143  \n",
       "50%               125.571429  \n",
       "75%               171.000000  \n",
       "max               504.714286  "
      ]
     },
     "execution_count": 22,
     "metadata": {},
     "output_type": "execute_result"
    }
   ],
   "source": [
    "min_token_length = 15\n",
    "\n",
    "df_chunks = df_chunks[df_chunks[\"token_count_per_chunk\"] > min_token_length ]\n",
    "df_chunks.describe()"
   ]
  },
  {
   "cell_type": "code",
   "execution_count": 23,
   "id": "82016dc9-4f6f-4285-888e-304e98614e1f",
   "metadata": {},
   "outputs": [
    {
     "data": {
      "text/html": [
       "<div>\n",
       "<style scoped>\n",
       "    .dataframe tbody tr th:only-of-type {\n",
       "        vertical-align: middle;\n",
       "    }\n",
       "\n",
       "    .dataframe tbody tr th {\n",
       "        vertical-align: top;\n",
       "    }\n",
       "\n",
       "    .dataframe thead th {\n",
       "        text-align: right;\n",
       "    }\n",
       "</style>\n",
       "<table border=\"1\" class=\"dataframe\">\n",
       "  <thead>\n",
       "    <tr style=\"text-align: right;\">\n",
       "      <th></th>\n",
       "      <th>page_number</th>\n",
       "      <th>chunk</th>\n",
       "      <th>char_count_per_chunk</th>\n",
       "      <th>word_count_per_chunk</th>\n",
       "      <th>token_count_per_chunk</th>\n",
       "    </tr>\n",
       "  </thead>\n",
       "  <tbody>\n",
       "    <tr>\n",
       "      <th>43</th>\n",
       "      <td>18</td>\n",
       "      <td>Allgemeine Versicherungsbedingungen Seite 6 vo...</td>\n",
       "      <td>3533</td>\n",
       "      <td>468</td>\n",
       "      <td>504.714286</td>\n",
       "    </tr>\n",
       "  </tbody>\n",
       "</table>\n",
       "</div>"
      ],
      "text/plain": [
       "    page_number                                              chunk  \\\n",
       "43           18  Allgemeine Versicherungsbedingungen Seite 6 vo...   \n",
       "\n",
       "    char_count_per_chunk  word_count_per_chunk  token_count_per_chunk  \n",
       "43                  3533                   468             504.714286  "
      ]
     },
     "execution_count": 23,
     "metadata": {},
     "output_type": "execute_result"
    }
   ],
   "source": [
    "df_chunks[df_chunks[\"token_count_per_chunk\"] > 384]"
   ]
  },
  {
   "cell_type": "markdown",
   "id": "8dc1b0a2-7fcd-4735-8a50-33b584d6058e",
   "metadata": {},
   "source": [
    "In this project, sentence-transformers model all-mpnet-base-v2 is used as an embedding model and it has an input size of 384 tokens. This means that the model has been trained in ingest and turn into embeddings texts with 384 tokens. Texts over 384 tokens which are encoded by this model will be auotmatically reduced to 384 tokens in length, potentially losing some information. The fact that there is only 3 chunks that have token more than 384 is quite acceptable. On average, we can embed whole page with the all-mpnet-base-v2 mode."
   ]
  },
  {
   "cell_type": "code",
   "execution_count": 24,
   "id": "26a4dd29",
   "metadata": {},
   "outputs": [],
   "source": [
    "chunks = df_chunks.to_dict(orient = \"records\")"
   ]
  },
  {
   "cell_type": "markdown",
   "id": "7954fdc5-97cb-4028-97ef-8174a3d337a6",
   "metadata": {},
   "source": [
    "### Embedding Creation\n",
    "\n",
    "While humans understand text, machines understand numbers best! Ideally, embeddings of text will mean that similar meaning texts have similar numerical representation.\r\n",
    "\r\n"
   ]
  },
  {
   "cell_type": "code",
   "execution_count": 25,
   "id": "e0d886b0-ef03-4ab9-bda5-33cfc51db95e",
   "metadata": {},
   "outputs": [],
   "source": [
    "device= \"cuda\" if torch.cuda.is_available() else \"cpu\"\n"
   ]
  },
  {
   "cell_type": "markdown",
   "id": "36104dcd-2632-48be-92f9-110b2791c69d",
   "metadata": {},
   "source": [
    "Sentence-transformers library contains many pre-trained embedding models. Specifically, we'll get the all-mpnet-base-v2 model. "
   ]
  },
  {
   "cell_type": "code",
   "execution_count": 26,
   "id": "5144aede",
   "metadata": {},
   "outputs": [
    {
     "name": "stderr",
     "output_type": "stream",
     "text": [
      "C:\\Users\\asus\\anaconda3\\Lib\\site-packages\\huggingface_hub\\file_download.py:1132: FutureWarning: `resume_download` is deprecated and will be removed in version 1.0.0. Downloads always resume when possible. If you want to force a new download, use `force_download=True`.\n",
      "  warnings.warn(\n"
     ]
    }
   ],
   "source": [
    "embedding_model = SentenceTransformer(model_name_or_path=\"all-mpnet-base-v2\", device=device)"
   ]
  },
  {
   "cell_type": "code",
   "execution_count": 27,
   "id": "895594d6",
   "metadata": {},
   "outputs": [
    {
     "data": {
      "application/vnd.jupyter.widget-view+json": {
       "model_id": "0acfa7a408fe438cb1cfd233150d644a",
       "version_major": 2,
       "version_minor": 0
      },
      "text/plain": [
       "  0%|          | 0/120 [00:00<?, ?it/s]"
      ]
     },
     "metadata": {},
     "output_type": "display_data"
    }
   ],
   "source": [
    "## save our embeddings to our \"chunk\" dictionary:\n",
    "\n",
    "for item in tqdm(chunks):\n",
    "    item[\"embedding\"] = embedding_model.encode(item[\"chunk\"])"
   ]
  },
  {
   "cell_type": "code",
   "execution_count": 28,
   "id": "b7ed28bd-dc56-4e4f-a3d6-7734e981455a",
   "metadata": {},
   "outputs": [
    {
     "data": {
      "text/html": [
       "<div>\n",
       "<style scoped>\n",
       "    .dataframe tbody tr th:only-of-type {\n",
       "        vertical-align: middle;\n",
       "    }\n",
       "\n",
       "    .dataframe tbody tr th {\n",
       "        vertical-align: top;\n",
       "    }\n",
       "\n",
       "    .dataframe thead th {\n",
       "        text-align: right;\n",
       "    }\n",
       "</style>\n",
       "<table border=\"1\" class=\"dataframe\">\n",
       "  <thead>\n",
       "    <tr style=\"text-align: right;\">\n",
       "      <th></th>\n",
       "      <th>page_number</th>\n",
       "      <th>chunk</th>\n",
       "      <th>char_count_per_chunk</th>\n",
       "      <th>word_count_per_chunk</th>\n",
       "      <th>token_count_per_chunk</th>\n",
       "      <th>embedding</th>\n",
       "    </tr>\n",
       "  </thead>\n",
       "  <tbody>\n",
       "    <tr>\n",
       "      <th>0</th>\n",
       "      <td>3</td>\n",
       "      <td>Informationen für Ihren Versicherungsvertrag S...</td>\n",
       "      <td>1274</td>\n",
       "      <td>154</td>\n",
       "      <td>182.00</td>\n",
       "      <td>[0.003149034, -0.04874641, 0.009309288, -0.002...</td>\n",
       "    </tr>\n",
       "    <tr>\n",
       "      <th>1</th>\n",
       "      <td>3</td>\n",
       "      <td>Jegliche schriftliche und mündliche Kommunikat...</td>\n",
       "      <td>897</td>\n",
       "      <td>96</td>\n",
       "      <td>128.14</td>\n",
       "      <td>[0.008266833, -0.10775237, -0.0140566705, -0.0...</td>\n",
       "    </tr>\n",
       "    <tr>\n",
       "      <th>2</th>\n",
       "      <td>3</td>\n",
       "      <td>Im unwahrscheinlichen Fall einer Insolvenz und...</td>\n",
       "      <td>238</td>\n",
       "      <td>29</td>\n",
       "      <td>34.00</td>\n",
       "      <td>[-0.034830462, -0.09795748, 0.008475932, -0.02...</td>\n",
       "    </tr>\n",
       "    <tr>\n",
       "      <th>3</th>\n",
       "      <td>4</td>\n",
       "      <td>Informationen für Ihren Versicherungsvertrag S...</td>\n",
       "      <td>1409</td>\n",
       "      <td>176</td>\n",
       "      <td>201.29</td>\n",
       "      <td>[0.02947697, -0.07836568, 0.01964098, 0.015444...</td>\n",
       "    </tr>\n",
       "    <tr>\n",
       "      <th>4</th>\n",
       "      <td>4</td>\n",
       "      <td>Eine Beschwerde, bei der zugleich ein Verfahre...</td>\n",
       "      <td>950</td>\n",
       "      <td>123</td>\n",
       "      <td>135.71</td>\n",
       "      <td>[0.0377404, -0.018597338, -0.0036616018, 0.016...</td>\n",
       "    </tr>\n",
       "  </tbody>\n",
       "</table>\n",
       "</div>"
      ],
      "text/plain": [
       "   page_number                                              chunk  \\\n",
       "0            3  Informationen für Ihren Versicherungsvertrag S...   \n",
       "1            3  Jegliche schriftliche und mündliche Kommunikat...   \n",
       "2            3  Im unwahrscheinlichen Fall einer Insolvenz und...   \n",
       "3            4  Informationen für Ihren Versicherungsvertrag S...   \n",
       "4            4  Eine Beschwerde, bei der zugleich ein Verfahre...   \n",
       "\n",
       "   char_count_per_chunk  word_count_per_chunk  token_count_per_chunk  \\\n",
       "0                  1274                   154                 182.00   \n",
       "1                   897                    96                 128.14   \n",
       "2                   238                    29                  34.00   \n",
       "3                  1409                   176                 201.29   \n",
       "4                   950                   123                 135.71   \n",
       "\n",
       "                                           embedding  \n",
       "0  [0.003149034, -0.04874641, 0.009309288, -0.002...  \n",
       "1  [0.008266833, -0.10775237, -0.0140566705, -0.0...  \n",
       "2  [-0.034830462, -0.09795748, 0.008475932, -0.02...  \n",
       "3  [0.02947697, -0.07836568, 0.01964098, 0.015444...  \n",
       "4  [0.0377404, -0.018597338, -0.0036616018, 0.016...  "
      ]
     },
     "execution_count": 28,
     "metadata": {},
     "output_type": "execute_result"
    }
   ],
   "source": [
    "df_chunks = pd.DataFrame(chunks)\n",
    "df_chunks.head(5).round(2)"
   ]
  },
  {
   "cell_type": "code",
   "execution_count": 29,
   "id": "5f40b6e6-acfe-4ff2-bac1-c874c11b4c94",
   "metadata": {},
   "outputs": [
    {
     "data": {
      "text/plain": [
       "(768,)"
      ]
     },
     "execution_count": 29,
     "metadata": {},
     "output_type": "execute_result"
    }
   ],
   "source": [
    "df_chunks[\"embedding\"][0].shape"
   ]
  },
  {
   "cell_type": "markdown",
   "id": "bc2853c1-4ac8-4cea-8c7b-27ec4f93b851",
   "metadata": {},
   "source": [
    "Our embedding has a shape of (768,) meaning it's a vector of 768 numbers which represent our corresponding chunk in high-dimensional space.\n",
    "\n",
    "No matter the size of the text input to our all-mpnet-base-v2 model, it will be turned into an embedding size of (768,). This value is fixed. So whether a sentence is 1 token long or 1000 tokens long, it will be truncated/padded with zeros to size 384 and then turned into an embedding vector of size (768,). Other embedding models may have different input/output shapes."
   ]
  },
  {
   "cell_type": "code",
   "execution_count": 30,
   "id": "95c446b3",
   "metadata": {},
   "outputs": [],
   "source": [
    "## save embeddings to file\n",
    "\n",
    "df_chunks_save_path = \"chunks_and_embeddings_for_WeitBlick.csv\"\n",
    "df_chunks.to_csv(df_chunks_save_path, index=False)"
   ]
  },
  {
   "cell_type": "code",
   "execution_count": null,
   "id": "9af1ddef",
   "metadata": {},
   "outputs": [],
   "source": []
  }
 ],
 "metadata": {
  "kernelspec": {
   "display_name": "Python 3 (ipykernel)",
   "language": "python",
   "name": "python3"
  },
  "language_info": {
   "codemirror_mode": {
    "name": "ipython",
    "version": 3
   },
   "file_extension": ".py",
   "mimetype": "text/x-python",
   "name": "python",
   "nbconvert_exporter": "python",
   "pygments_lexer": "ipython3",
   "version": "3.11.5"
  }
 },
 "nbformat": 4,
 "nbformat_minor": 5
}
